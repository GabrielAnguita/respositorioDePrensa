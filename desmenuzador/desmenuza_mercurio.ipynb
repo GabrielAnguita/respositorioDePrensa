{
 "cells": [
  {
   "cell_type": "code",
   "execution_count": 1,
   "metadata": {},
   "outputs": [],
   "source": [
    "import pandas as pd\n",
    "from datetime import datetime as dt\n",
    "from datetime import date, timedelta\n",
    "import pymongo\n",
    "import spacy\n",
    "import re\n",
    "from collections import Counter\n"
   ]
  },
  {
   "cell_type": "code",
   "execution_count": 2,
   "metadata": {},
   "outputs": [],
   "source": [
    "nlp = spacy.load(\"es_core_news_lg\")\n"
   ]
  },
  {
   "cell_type": "code",
   "execution_count": 25,
   "metadata": {},
   "outputs": [],
   "source": [
    "def noticias_mercurio_dia(año, mes, dia):\n",
    "    start = dt(año, mes, dia, 0, 0, 0)    \n",
    "    end = start + timedelta(1)\n",
    "    \n",
    "    client = pymongo.MongoClient(\"mongodb://localhost:27017\")\n",
    "    db = client[\"noticias\"]\n",
    "    collection = db[\"mercurio_raw\"]\n",
    "    noticias_mercurio = [noticia for noticia in collection.find( {'fechaPublicacion': {'$lt': end, '$gte': start}})]\n",
    "    return noticias_mercurio\n",
    "\n"
   ]
  },
  {
   "cell_type": "code",
   "execution_count": 24,
   "metadata": {
    "tags": []
   },
   "outputs": [],
   "source": [
    "def noticias_mostrador_dia(año, mes, dia):\n",
    "    start = dt(año, mes, dia, 0, 0, 0)\n",
    "    end = start + timedelta(1)\n",
    "    client = pymongo.MongoClient(\"mongodb://localhost:27017\")\n",
    "    db = client[\"noticias\"]\n",
    "    collection = db[\"mostrador_raw\"]\n",
    "    noticias_mostrador = [noticia for noticia in collection.find( {'fecha publicacion': {'$lt': end, '$gte': start}})]\n",
    "    return noticias_mostrador"
   ]
  },
  {
   "cell_type": "code",
   "execution_count": 5,
   "metadata": {},
   "outputs": [],
   "source": [
    "def doc_mostrador_dia(noticias):\n",
    "    texto = \"\"\n",
    "    for noticia in noticias:\n",
    "        texto += (noticia['titulo'] + \" \" + noticia['bajada'] + \" \" + noticia['cuerpo'] + \" \").replace(u'\\xa0', u' ')\n",
    "\n",
    "    return nlp(texto)"
   ]
  },
  {
   "cell_type": "code",
   "execution_count": 6,
   "metadata": {
    "tags": []
   },
   "outputs": [],
   "source": [
    "def taglist_mostrador(noticias):\n",
    "    tags = [noticia[\"tags\"] for noticia in noticias]\n",
    "    return [tag for sublist in tags for tag in sublist]"
   ]
  },
  {
   "cell_type": "code",
   "execution_count": 11,
   "metadata": {},
   "outputs": [],
   "source": []
  },
  {
   "cell_type": "code",
   "execution_count": 7,
   "metadata": {},
   "outputs": [],
   "source": []
  },
  {
   "cell_type": "code",
   "execution_count": 7,
   "metadata": {},
   "outputs": [],
   "source": [
    "def doc_mercurio(noticias):\n",
    "    text = \" \".join([(noticia[\"titulo\"] + \" \" + noticia[\"bajada\"] + \" \" + noticia[\"texto\"]).replace(u'\\xa0', u' ') for noticia in noticias])\n",
    "    doc = nlp(text)\n",
    "    return doc"
   ]
  },
  {
   "cell_type": "code",
   "execution_count": 8,
   "metadata": {},
   "outputs": [],
   "source": [
    "def doc_mostrador(noticias):\n",
    "    text = \" \".join([(noticia[\"titulo\"] + \" \" + noticia[\"bajada\"] + \" \" + noticia[\"texto\"]).replace(u'\\xa0', u' ') for noticia in noticias])\n",
    "    doc = nlp(text)\n",
    "    return doc"
   ]
  },
  {
   "cell_type": "code",
   "execution_count": 9,
   "metadata": {},
   "outputs": [],
   "source": [
    "def common_proper_nouns(document):\n",
    "    importantes = [\"PROPN\"]\n",
    "    lemas = [ w.lemma_ for w in document  if w.pos_ in importantes]\n",
    "    cuontalemas = Counter(lemas)\n",
    "    cuenta = Counter.most_common(cuontalemas)\n",
    "    return [[k,v] for (k,v) in cuenta]"
   ]
  },
  {
   "cell_type": "code",
   "execution_count": 10,
   "metadata": {},
   "outputs": [],
   "source": [
    "def common_nouns(document):\n",
    "    importantes = [\"NOUN\"]\n",
    "    lemas = [ w.lemma_ for w in document  if w.pos_ in importantes]\n",
    "    cuontalemas = Counter(lemas)\n",
    "    cuenta = Counter.most_common(cuontalemas)\n",
    "    return [[k,v] for (k,v) in cuenta]"
   ]
  },
  {
   "cell_type": "code",
   "execution_count": 11,
   "metadata": {},
   "outputs": [],
   "source": [
    "def common_verbs(document):\n",
    "    importantes = [\"VERB\"]\n",
    "    lemas = [ w.lemma_ for w in document  if w.pos_ in importantes]\n",
    "    cuontalemas = Counter(lemas)\n",
    "    cuenta = Counter.most_common(cuontalemas)\n",
    "    return [[k,v] for (k,v) in cuenta]"
   ]
  },
  {
   "cell_type": "code",
   "execution_count": 26,
   "metadata": {},
   "outputs": [],
   "source": [
    "def inserta_cuentas_mostrador(dia):\n",
    "    collection = db[\"cuenta_mostrador_prueba4\"]\n",
    "    if (dia_most := noticias_mostrador_dia(dia.year, dia.month, dia.day)) is not None:\n",
    "        doc = doc_mostrador_dia(dia_most)\n",
    "        prop_nouns = common_proper_nouns(doc)\n",
    "        nouns = common_nouns(doc)\n",
    "        verbs = common_verbs(doc)\n",
    "        collection.insert({\"dia\":str(dia),\"cuentas\":{\"sustantivos_comunes\":nouns, \"sustantivos_propios\":prop_nouns, \"verbos\":verbs}})"
   ]
  },
  {
   "cell_type": "code",
   "execution_count": 27,
   "metadata": {},
   "outputs": [],
   "source": [
    "def inserta_cuentas_mercurio(dia):\n",
    "    collection = db[\"cuenta_mercurio_prueba4\"]\n",
    "    if (dia_most := noticias_mostrador_dia(dia.year, dia.month, dia.day)) is not None:\n",
    "        doc = doc_mostrador_dia(dia_most)\n",
    "        prop_nouns = common_proper_nouns(doc)\n",
    "        nouns = common_nouns(doc)\n",
    "        verbs = common_verbs(doc)\n",
    "        collection.insert({\"dia\":str(dia),\"cuentas\":{\"sustantivos_comunes\":nouns, \"sustantivos_propios\":prop_nouns, \"verbos\":verbs}})"
   ]
  },
  {
   "cell_type": "code",
   "execution_count": null,
   "metadata": {},
   "outputs": [],
   "source": []
  },
  {
   "cell_type": "code",
   "execution_count": 28,
   "metadata": {
    "tags": []
   },
   "outputs": [],
   "source": [
    "from datetime import timedelta, datetime\n",
    "\n",
    "# esta función nos hace fácil iterar a traves de fechas\n",
    "def rango_fechas(start_date, end_date):\n",
    "    for n in range(int((end_date - start_date).days)):\n",
    "        yield start_date + timedelta(n)\n",
    "\n",
    "fecha_inicio = datetime(2020, 4, 1)\n",
    "fecha_fin = datetime(2020, 8, 5)\n",
    "\n",
    "client = pymongo.MongoClient(\"mongodb://localhost:27017\")\n",
    "db = client[\"noticias\"]\n",
    "    \n",
    "for dia in rango_fechas(fecha_inicio, fecha_fin):\n",
    "   inserta_cuentas_mostrador(dia)\n",
    "   inserta_cuentas_mercurio(dia)"
   ]
  },
  {
   "cell_type": "code",
   "execution_count": 13,
   "metadata": {},
   "outputs": [
    {
     "output_type": "execute_result",
     "data": {
      "text/plain": "datetime.datetime(2020, 6, 14, 0, 0)"
     },
     "metadata": {},
     "execution_count": 13
    }
   ],
   "source": [
    "datetime(2020, 6, 14)"
   ]
  }
 ],
 "metadata": {
  "language_info": {
   "codemirror_mode": {
    "name": "ipython",
    "version": 3
   },
   "file_extension": ".py",
   "mimetype": "text/x-python",
   "name": "python",
   "nbconvert_exporter": "python",
   "pygments_lexer": "ipython3",
   "version": "3.8.4-candidate"
  },
  "orig_nbformat": 2,
  "kernelspec": {
   "name": "python38464bitvenvvenvddda0e5e906c4e98ac5a38e824922a50",
   "display_name": "Python 3.8.4 64-bit ('venv': venv)"
  }
 },
 "nbformat": 4,
 "nbformat_minor": 2
}